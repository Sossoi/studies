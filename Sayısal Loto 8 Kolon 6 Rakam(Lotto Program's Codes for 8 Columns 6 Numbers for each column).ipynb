{
 "cells": [
  {
   "cell_type": "code",
   "execution_count": 1,
   "metadata": {},
   "outputs": [
    {
     "name": "stdout",
     "output_type": "stream",
     "text": [
      "[42, 33, 14, 46, 33, 38]\n",
      "[43, 34, 40, 18, 10, 9]\n",
      "[15, 12, 18, 13, 42, 40]\n",
      "[27, 21, 28, 32, 7, 32]\n",
      "[34, 49, 31, 1, 30, 25]\n",
      "[37, 5, 43, 37, 45, 3]\n",
      "[19, 26, 41, 40, 7, 29]\n",
      "[42, 25, 40, 6, 1, 20]\n"
     ]
    }
   ],
   "source": [
    "import random\n",
    "sayılar = [0, 0, 0, 0, 0, 0]\n",
    "a=1\n",
    "while (a<=8):\n",
    "    for i in range(6):\n",
    "        sayı = random.randint(1, 49)\n",
    "        sayılar[i] = sayı\n",
    "    print(sayılar)\n",
    "    a+=1"
   ]
  },
  {
   "cell_type": "code",
   "execution_count": null,
   "metadata": {},
   "outputs": [],
   "source": []
  }
 ],
 "metadata": {
  "kernelspec": {
   "display_name": "Python 3",
   "language": "python",
   "name": "python3"
  },
  "language_info": {
   "codemirror_mode": {
    "name": "ipython",
    "version": 3
   },
   "file_extension": ".py",
   "mimetype": "text/x-python",
   "name": "python",
   "nbconvert_exporter": "python",
   "pygments_lexer": "ipython3",
   "version": "3.7.4"
  }
 },
 "nbformat": 4,
 "nbformat_minor": 2
}
