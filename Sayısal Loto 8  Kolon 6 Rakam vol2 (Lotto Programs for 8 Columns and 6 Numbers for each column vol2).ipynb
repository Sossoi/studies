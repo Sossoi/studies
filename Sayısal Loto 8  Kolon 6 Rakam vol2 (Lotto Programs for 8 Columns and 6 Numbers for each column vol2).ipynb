{
 "cells": [
  {
   "cell_type": "code",
   "execution_count": null,
   "metadata": {},
   "outputs": [],
   "source": [
    "import random\n",
    "sayılar = [0,0,0,0,0,0]\n",
    "def sayısec():\n",
    "    for i in range(6):\n",
    "        sayı = random.randint(1, 49)\n",
    "        sayılar[i] = sayı\n",
    "    print(sayılar)\n",
    " \n",
    "i=1\n",
    "while i<=8:\n",
    "    sayısec()\n",
    "    i+=1"
   ]
  }
 ],
 "metadata": {
  "kernelspec": {
   "display_name": "Python 3",
   "language": "python",
   "name": "python3"
  },
  "language_info": {
   "codemirror_mode": {
    "name": "ipython",
    "version": 3
   },
   "file_extension": ".py",
   "mimetype": "text/x-python",
   "name": "python",
   "nbconvert_exporter": "python",
   "pygments_lexer": "ipython3",
   "version": "3.7.4"
  }
 },
 "nbformat": 4,
 "nbformat_minor": 2
}
